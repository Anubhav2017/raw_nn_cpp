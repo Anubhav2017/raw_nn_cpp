{
 "cells": [
  {
   "cell_type": "code",
   "execution_count": null,
   "metadata": {},
   "outputs": [],
   "source": [
    "import tensorflow as tf\n",
    "from tensorflow.keras.models import Sequential\n",
    "from tensorflow.keras.layers import Dense, Dropout, Flatten, Conv2D, MaxPooling1D,Reshape, LSTM, Dropout, TimeDistributed, Input\n",
    "from tensorflow.keras.datasets import mnist\n",
    "import numpy as np\n"
   ]
  },
  {
   "cell_type": "code",
   "execution_count": null,
   "metadata": {},
   "outputs": [],
   "source": [
    "(x_train,y_train),(x_test,y_test) = mnist.load_data()\n"
   ]
  },
  {
   "cell_type": "code",
   "execution_count": null,
   "metadata": {},
   "outputs": [],
   "source": [
    "x_train=x_train.reshape((-1,28,28,1))/255.0\n",
    "x_test=x_test.reshape((-1,28,28,1))/255.0\n",
    "y_train = tf.keras.utils.to_categorical(y_train)\n",
    "y_test = tf.keras.utils.to_categorical(y_test)\n"
   ]
  },
  {
   "cell_type": "code",
   "execution_count": 61,
   "metadata": {},
   "outputs": [
    {
     "name": "stdout",
     "output_type": "stream",
     "text": [
      "Model: \"sequential_19\"\n",
      "_________________________________________________________________\n",
      "Layer (type)                 Output Shape              Param #   \n",
      "=================================================================\n",
      "conv2d_14 (Conv2D)           (None, 25, 25, 4)         68        \n",
      "_________________________________________________________________\n",
      "flatten_17 (Flatten)         (None, 2500)              0         \n",
      "_________________________________________________________________\n",
      "dense_25 (Dense)             (None, 10)                25010     \n",
      "=================================================================\n",
      "Total params: 25,078\n",
      "Trainable params: 25,078\n",
      "Non-trainable params: 0\n",
      "_________________________________________________________________\n"
     ]
    }
   ],
   "source": [
    "model=Sequential()\n",
    "\n",
    "model.add(Input(shape=(28,28,1)))\n",
    "model.add((Conv2D(filters=4, kernel_size=4, activation='relu')))\n",
    "model.add(Flatten())\n",
    "model.add(Dense(units=10, activation='softmax'))\n",
    "model.compile( loss='categorical_crossentropy', metrics=['accuracy'])\n",
    "model.summary()\n"
   ]
  },
  {
   "cell_type": "code",
   "execution_count": 68,
   "metadata": {},
   "outputs": [],
   "source": [
    "# model.fit(x_train,y_train,batch_size=32,epochs=5)\n",
    "w1=((model.layers[2].weights)[0]).numpy()\n",
    "w2=((model.layers[2].weights)[1]).numpy()\n"
   ]
  },
  {
   "cell_type": "code",
   "execution_count": 69,
   "metadata": {},
   "outputs": [],
   "source": [
    "for i in range(2500):\n",
    "    for j in range(10):\n",
    "        w1[i][j]=0.01\n",
    "for i in range(10):\n",
    "    w2[i]=0.01\n",
    "\n",
    "w=[w1,w2]\n",
    "model.layers[2].set_weights(w)\n"
   ]
  },
  {
   "cell_type": "code",
   "execution_count": 73,
   "metadata": {},
   "outputs": [
    {
     "name": "stdout",
     "output_type": "stream",
     "text": [
      "(4,)\n"
     ]
    }
   ],
   "source": [
    "# model.fit(x_train,y_train,batch_size=32,epochs=5)\n",
    "w1=((model.layers[0].weights)[0]).numpy()\n",
    "w2=((model.layers[0].weights)[1]).numpy()\n",
    "print(w2.shape)"
   ]
  },
  {
   "cell_type": "code",
   "execution_count": 74,
   "metadata": {},
   "outputs": [],
   "source": [
    "for a in range(4):\n",
    "    for b in range(4):\n",
    "        for c in range(1):\n",
    "            for d in range(4):\n",
    "                w1[a][b][c][d]=0.01\n",
    "\n",
    "for i in range(4):\n",
    "    w2[i]=0.01\n",
    "\n",
    "w=[w1,w2]\n",
    "model.layers[0].set_weights(w)\n"
   ]
  }
 ],
 "metadata": {
  "interpreter": {
   "hash": "8eda46fcdaf684ca6c615bf0acdae196e42139c0edab1eb57e328e85edfac349"
  },
  "kernelspec": {
   "display_name": "Python 3.8.12 ('genomics')",
   "language": "python",
   "name": "python3"
  },
  "language_info": {
   "codemirror_mode": {
    "name": "ipython",
    "version": 3
   },
   "file_extension": ".py",
   "mimetype": "text/x-python",
   "name": "python",
   "nbconvert_exporter": "python",
   "pygments_lexer": "ipython3",
   "version": "3.8.12"
  },
  "orig_nbformat": 4
 },
 "nbformat": 4,
 "nbformat_minor": 2
}
