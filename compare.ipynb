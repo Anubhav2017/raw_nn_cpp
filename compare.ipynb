{
 "cells": [
  {
   "cell_type": "code",
   "execution_count": 1,
   "metadata": {},
   "outputs": [],
   "source": [
    "import tensorflow as tf\n",
    "from tensorflow.keras.models import Sequential\n",
    "from tensorflow.keras.layers import Dense, Dropout, Flatten, Conv2D,Conv1D, MaxPooling1D,Reshape, LSTM, Dropout, TimeDistributed, Input\n",
    "from tensorflow.keras.datasets import mnist\n",
    "import numpy as np\n",
    "\n",
    "\n"
   ]
  },
  {
   "cell_type": "code",
   "execution_count": 2,
   "metadata": {},
   "outputs": [],
   "source": [
    "# (x_train,y_train),(x_test,y_test) = mnist.load_data()\n"
   ]
  },
  {
   "cell_type": "code",
   "execution_count": 3,
   "metadata": {},
   "outputs": [],
   "source": [
    "# x_train=x_train.reshape((-1,784))/255.0\n",
    "# x_test=x_test.reshape((-1,28,28,1))/255.0\n",
    "# y_train = tf.keras.utils.to_categorical(y_train)\n",
    "# y_test = tf.keras.utils.to_categorical(y_test)\n"
   ]
  },
  {
   "cell_type": "code",
   "execution_count": 12,
   "metadata": {},
   "outputs": [],
   "source": [
    "x_train=[0]*10 \n",
    "for i in range(10):\n",
    "    x_train[i]=i*0.1\n",
    "\n",
    "x_train=np.asarray(x_train).reshape((1,2,-1,1))"
   ]
  },
  {
   "cell_type": "code",
   "execution_count": 13,
   "metadata": {},
   "outputs": [
    {
     "name": "stdout",
     "output_type": "stream",
     "text": [
      "Model: \"sequential_1\"\n",
      "_________________________________________________________________\n",
      "Layer (type)                 Output Shape              Param #   \n",
      "=================================================================\n",
      "conv2d_1 (Conv2D)            (None, 1, 4, 2)           10        \n",
      "=================================================================\n",
      "Total params: 10\n",
      "Trainable params: 10\n",
      "Non-trainable params: 0\n",
      "_________________________________________________________________\n"
     ]
    }
   ],
   "source": [
    "model=Sequential()\n",
    "\n",
    "model.add(Input(shape=(2,5,1)))\n",
    "model.add((Conv2D(filters=2, kernel_size=(2,2), activation='relu')))\n",
    "# model.add(Flatten())\n",
    "# model.add(Dense(units=10, activation='softmax'))\n",
    "model.compile( loss=tf.keras.losses.MeanSquaredError(), metrics=['accuracy'],optimizer=tf.keras.optimizers.SGD(0.01))\n",
    "model.summary()\n"
   ]
  },
  {
   "cell_type": "code",
   "execution_count": 14,
   "metadata": {},
   "outputs": [
    {
     "name": "stdout",
     "output_type": "stream",
     "text": [
      "(2, 2, 1, 2)\n"
     ]
    }
   ],
   "source": [
    "# model.fit(x_train,y_train,batch_size=32,epochs=5)\n",
    "w1=((model.layers[0].weights)[0]).numpy()\n",
    "w2=((model.layers[0].weights)[1]).numpy()\n",
    "\n",
    "print(w1.shape)\n"
   ]
  },
  {
   "cell_type": "code",
   "execution_count": 16,
   "metadata": {},
   "outputs": [],
   "source": [
    "y_train=np.ones((1,4,2))*0.1"
   ]
  },
  {
   "cell_type": "code",
   "execution_count": 8,
   "metadata": {},
   "outputs": [],
   "source": [
    "# for i in range(2500):\n",
    "#     for j in range(10):\n",
    "#         w1[i][j]=0.01\n",
    "# for i in range(10):\n",
    "#     w2[i]=0.01\n",
    "\n",
    "# w=[w1,w2]\n",
    "# model.layers[2].set_weights(w)\n"
   ]
  },
  {
   "cell_type": "code",
   "execution_count": 17,
   "metadata": {},
   "outputs": [
    {
     "name": "stdout",
     "output_type": "stream",
     "text": [
      "(2, 2, 1, 2)\n"
     ]
    }
   ],
   "source": [
    "print(w1.shape)"
   ]
  },
  {
   "cell_type": "code",
   "execution_count": 18,
   "metadata": {},
   "outputs": [],
   "source": [
    "for a in range(2):\n",
    "    for b in range(2):\n",
    "        for c in range(1):\n",
    "            for d in range(2):\n",
    "                w1[a][b][c][d]=0.01\n",
    "\n",
    "for i in range(2):\n",
    "    w2[i]=0.01\n",
    "\n",
    "w=[w1,w2]\n",
    "model.layers[0].set_weights(w)\n"
   ]
  },
  {
   "cell_type": "code",
   "execution_count": 19,
   "metadata": {},
   "outputs": [
    {
     "name": "stdout",
     "output_type": "stream",
     "text": [
      "[<tf.Tensor: shape=(2, 2, 1, 2), dtype=float32, numpy=\n",
      "array([[[[-0.0103, -0.0103]],\n",
      "\n",
      "        [[-0.0175, -0.0175]]],\n",
      "\n",
      "\n",
      "       [[[-0.0463, -0.0463]],\n",
      "\n",
      "        [[-0.0535, -0.0535]]]], dtype=float32)>, <tf.Tensor: shape=(2,), dtype=float32, numpy=array([-0.072, -0.072], dtype=float32)>]\n"
     ]
    }
   ],
   "source": [
    "\n",
    "# model.fit(x_train,y_train,batch_size=1,epochs=1)\n",
    "\n",
    "with tf.GradientTape() as tape:\n",
    "    y_pred=model(x_train)\n",
    "    # print(y_pred)\n",
    "    loss=tf.keras.losses.MeanSquaredError()(y_train,y_pred)\n",
    "    # print(loss)\n",
    "    grads=tape.gradient(loss,model.trainable_variables)\n",
    "    print(grads)\n",
    "    \n"
   ]
  },
  {
   "cell_type": "code",
   "execution_count": 11,
   "metadata": {},
   "outputs": [
    {
     "name": "stdout",
     "output_type": "stream",
     "text": [
      "[[[[0.01 0.01]]\n",
      "\n",
      "  [[0.01 0.01]]]\n",
      "\n",
      "\n",
      " [[[0.01 0.01]]\n",
      "\n",
      "  [[0.01 0.01]]]]\n"
     ]
    }
   ],
   "source": [
    "print(model.layers[0].weights[0].numpy())"
   ]
  }
 ],
 "metadata": {
  "interpreter": {
   "hash": "d13be26f8f2314f08ea17dd6124c560f7ae3942ec34d11c0cd23e14a586fdbbb"
  },
  "kernelspec": {
   "display_name": "Python 3.9.7 ('genomics')",
   "language": "python",
   "name": "python3"
  },
  "language_info": {
   "codemirror_mode": {
    "name": "ipython",
    "version": 3
   },
   "file_extension": ".py",
   "mimetype": "text/x-python",
   "name": "python",
   "nbconvert_exporter": "python",
   "pygments_lexer": "ipython3",
   "version": "3.9.7"
  },
  "orig_nbformat": 4
 },
 "nbformat": 4,
 "nbformat_minor": 2
}
