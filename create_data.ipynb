{
 "cells": [
  {
   "cell_type": "code",
   "execution_count": 1,
   "source": [
    "from tensorflow.keras.datasets import mnist"
   ],
   "outputs": [],
   "metadata": {}
  },
  {
   "cell_type": "code",
   "execution_count": 9,
   "source": [
    "(x_train,y_train),(x_test,y_test) = mnist.load_data()"
   ],
   "outputs": [],
   "metadata": {}
  },
  {
   "cell_type": "code",
   "execution_count": 10,
   "source": [
    "import numpy as np"
   ],
   "outputs": [],
   "metadata": {}
  },
  {
   "cell_type": "code",
   "execution_count": 20,
   "source": [
    "# x_train=np.array(x_train,np.dtype('u8'))\n",
    "# x_test=np.array(x_test,np.dtype('u8'))\n",
    "\n",
    "# y_train=np.array(y_train,np.dtype('u8'))\n",
    "# y_test=np.array(y_test,np.dtype('u8'))\n",
    "\n",
    "print(x_train.shape)\n",
    "print(y_train.shape)"
   ],
   "outputs": [
    {
     "output_type": "stream",
     "name": "stdout",
     "text": [
      "(60000, 784)\n",
      "(60000, 1)\n"
     ]
    }
   ],
   "metadata": {}
  },
  {
   "cell_type": "code",
   "execution_count": 5,
   "source": [
    "# np.save(\"x_train.npy\",x_train)\n",
    "# np.save(\"x_test.npy\",x_test)\n",
    "# np.save(\"y_train.npy\",y_train)\n",
    "# np.save(\"y_test.npy\",y_test)\n"
   ],
   "outputs": [],
   "metadata": {}
  },
  {
   "cell_type": "code",
   "execution_count": 18,
   "source": [
    "f=open(\"x_train.txt\",\"w\")\n",
    "x_train= np.reshape(x_train,(x_train.shape[0],-1))\n",
    "\n",
    "for i in range(x_train.shape[0]):\n",
    "    \n",
    "    for j in range(x_train.shape[1]):\n",
    "        # print(x_train[i][j])\n",
    "        f.write(str(x_train[i][j])+\" \")\n",
    "    f.write('\\n')\n"
   ],
   "outputs": [],
   "metadata": {}
  },
  {
   "cell_type": "code",
   "execution_count": 21,
   "source": [
    "f=open(\"y_train.txt\",\"w\")\n",
    "y_train= np.reshape(y_train,(y_train.shape[0],-1))\n",
    "\n",
    "for i in range(y_train.shape[0]):\n",
    "    f.write(str(y_train[i][0])+\" \")\n",
    "    f.write('\\n')\n"
   ],
   "outputs": [],
   "metadata": {}
  }
 ],
 "metadata": {
  "orig_nbformat": 4,
  "language_info": {
   "name": "python",
   "version": "3.8.13",
   "mimetype": "text/x-python",
   "codemirror_mode": {
    "name": "ipython",
    "version": 3
   },
   "pygments_lexer": "ipython3",
   "nbconvert_exporter": "python",
   "file_extension": ".py"
  },
  "kernelspec": {
   "name": "python3",
   "display_name": "Python 3.8.13 64-bit ('genomics': conda)"
  },
  "interpreter": {
   "hash": "432e549a811fb8d30132dc774cfdfb86df32e63cbd103abaa16f3e6660dfd83d"
  }
 },
 "nbformat": 4,
 "nbformat_minor": 2
}